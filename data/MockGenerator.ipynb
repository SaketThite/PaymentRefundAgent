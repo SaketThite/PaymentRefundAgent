{
 "cells": [
  {
   "cell_type": "code",
   "execution_count": null,
   "id": "86a54966",
   "metadata": {},
   "outputs": [
    {
     "ename": "FileNotFoundError",
     "evalue": "[Errno 2] No such file or directory: 'data\\\\mock_transactions.json'",
     "output_type": "error",
     "traceback": [
      "\u001b[31m---------------------------------------------------------------------------\u001b[39m",
      "\u001b[31mFileNotFoundError\u001b[39m                         Traceback (most recent call last)",
      "\u001b[36mCell\u001b[39m\u001b[36m \u001b[39m\u001b[32mIn[3]\u001b[39m\u001b[32m, line 60\u001b[39m\n\u001b[32m     57\u001b[39m         json.dump(data, f, indent=\u001b[32m2\u001b[39m)\n\u001b[32m     59\u001b[39m \u001b[38;5;66;03m# Run generator\u001b[39;00m\n\u001b[32m---> \u001b[39m\u001b[32m60\u001b[39m \u001b[43mgenerate_dataset\u001b[49m\u001b[43m(\u001b[49m\u001b[32;43m10000\u001b[39;49m\u001b[43m)\u001b[49m  \u001b[38;5;66;03m# change number as needed\u001b[39;00m\n",
      "\u001b[36mCell\u001b[39m\u001b[36m \u001b[39m\u001b[32mIn[3]\u001b[39m\u001b[32m, line 56\u001b[39m, in \u001b[36mgenerate_dataset\u001b[39m\u001b[34m(n, output_file)\u001b[39m\n\u001b[32m     54\u001b[39m \u001b[38;5;28;01mdef\u001b[39;00m\u001b[38;5;250m \u001b[39m\u001b[34mgenerate_dataset\u001b[39m(n=\u001b[32m1000\u001b[39m, output_file=\u001b[33m\"\u001b[39m\u001b[33mdata\u001b[39m\u001b[33m\\\u001b[39m\u001b[33mmock_transactions.json\u001b[39m\u001b[33m\"\u001b[39m):\n\u001b[32m     55\u001b[39m     data = [generate_transaction() \u001b[38;5;28;01mfor\u001b[39;00m _ \u001b[38;5;129;01min\u001b[39;00m \u001b[38;5;28mrange\u001b[39m(n)]\n\u001b[32m---> \u001b[39m\u001b[32m56\u001b[39m     \u001b[38;5;28;01mwith\u001b[39;00m \u001b[38;5;28;43mopen\u001b[39;49m\u001b[43m(\u001b[49m\u001b[43moutput_file\u001b[49m\u001b[43m,\u001b[49m\u001b[43m \u001b[49m\u001b[33;43m\"\u001b[39;49m\u001b[33;43mw\u001b[39;49m\u001b[33;43m\"\u001b[39;49m\u001b[43m)\u001b[49m \u001b[38;5;28;01mas\u001b[39;00m f:\n\u001b[32m     57\u001b[39m         json.dump(data, f, indent=\u001b[32m2\u001b[39m)\n",
      "\u001b[36mFile \u001b[39m\u001b[32m~\\AppData\\Local\\Packages\\PythonSoftwareFoundation.Python.3.11_qbz5n2kfra8p0\\LocalCache\\local-packages\\Python311\\site-packages\\IPython\\core\\interactiveshell.py:327\u001b[39m, in \u001b[36m_modified_open\u001b[39m\u001b[34m(file, *args, **kwargs)\u001b[39m\n\u001b[32m    320\u001b[39m \u001b[38;5;28;01mif\u001b[39;00m file \u001b[38;5;129;01min\u001b[39;00m {\u001b[32m0\u001b[39m, \u001b[32m1\u001b[39m, \u001b[32m2\u001b[39m}:\n\u001b[32m    321\u001b[39m     \u001b[38;5;28;01mraise\u001b[39;00m \u001b[38;5;167;01mValueError\u001b[39;00m(\n\u001b[32m    322\u001b[39m         \u001b[33mf\u001b[39m\u001b[33m\"\u001b[39m\u001b[33mIPython won\u001b[39m\u001b[33m'\u001b[39m\u001b[33mt let you open fd=\u001b[39m\u001b[38;5;132;01m{\u001b[39;00mfile\u001b[38;5;132;01m}\u001b[39;00m\u001b[33m by default \u001b[39m\u001b[33m\"\u001b[39m\n\u001b[32m    323\u001b[39m         \u001b[33m\"\u001b[39m\u001b[33mas it is likely to crash IPython. If you know what you are doing, \u001b[39m\u001b[33m\"\u001b[39m\n\u001b[32m    324\u001b[39m         \u001b[33m\"\u001b[39m\u001b[33myou can use builtins\u001b[39m\u001b[33m'\u001b[39m\u001b[33m open.\u001b[39m\u001b[33m\"\u001b[39m\n\u001b[32m    325\u001b[39m     )\n\u001b[32m--> \u001b[39m\u001b[32m327\u001b[39m \u001b[38;5;28;01mreturn\u001b[39;00m \u001b[43mio_open\u001b[49m\u001b[43m(\u001b[49m\u001b[43mfile\u001b[49m\u001b[43m,\u001b[49m\u001b[43m \u001b[49m\u001b[43m*\u001b[49m\u001b[43margs\u001b[49m\u001b[43m,\u001b[49m\u001b[43m \u001b[49m\u001b[43m*\u001b[49m\u001b[43m*\u001b[49m\u001b[43mkwargs\u001b[49m\u001b[43m)\u001b[49m\n",
      "\u001b[31mFileNotFoundError\u001b[39m: [Errno 2] No such file or directory: 'data\\\\mock_transactions.json'"
     ]
    }
   ],
   "source": [
    "from faker import Faker\n",
    "import random\n",
    "import uuid\n",
    "import json\n",
    "from datetime import datetime, timedelta\n",
    "\n",
    "fake = Faker()\n",
    "\n",
    "def generate_transaction():\n",
    "    transaction_id = \"TXN\" + str(uuid.uuid4())[:8].upper()\n",
    "    user_id = \"USR\" + str(random.randint(1000, 9999))\n",
    "    merchant = random.choice([\"Amazon\", \"Flipkart\", \"eBay\", \"Apple\", \"Netflix\"])\n",
    "    amount = round(random.uniform(10, 500), 2)\n",
    "    currency = random.choice([\"USD\", \"EUR\", \"INR\", \"GBP\"])\n",
    "    payment_method = random.choice([\"CreditCard\", \"DebitCard\", \"UPI\", \"PayPal\"])\n",
    "    payment_gateway = random.choice([\"Stripe\", \"Razorpay\", \"PayPal\", \"Square\"])\n",
    "    transaction_date = fake.date_time_between(start_date=\"-90d\", end_date=\"now\").isoformat()\n",
    "    status = random.choice([\"Completed\", \"Failed\", \"Refunded\"])\n",
    "    refund_status = random.choice([\"None\", \"Pending\", \"Approved\", \"Denied\"])\n",
    "    dispute_status = random.choice([\"None\", \"Open\", \"Resolved\"])\n",
    "    order_id = \"ORD\" + str(uuid.uuid4())[:8].upper()\n",
    "    product_description = random.choice([\n",
    "        \"AI Ebook\", \"Bluetooth Speaker\", \"Mobile App Subscription\", \"Online Course\", \"Cloud Storage Plan\"\n",
    "    ])\n",
    "    delivery_status = random.choice([\"Delivered\", \"Not Delivered\"])\n",
    "    \n",
    "    refund_reason = (\n",
    "        fake.sentence(nb_words=6) if refund_status in [\"Pending\", \"Approved\", \"Denied\"] else \"\"\n",
    "    )\n",
    "    policy_matched = random.choice([True, False]) if refund_status != \"None\" else None\n",
    "    support_notes = fake.sentence(nb_words=12) if random.random() < 0.3 else \"\"\n",
    "\n",
    "    return {\n",
    "        \"transaction_id\": transaction_id,\n",
    "        \"user_id\": user_id,\n",
    "        \"merchant\": merchant,\n",
    "        \"amount\": amount,\n",
    "        \"currency\": currency,\n",
    "        \"payment_method\": payment_method,\n",
    "        \"payment_gateway\": payment_gateway,\n",
    "        \"transaction_date\": transaction_date,\n",
    "        \"status\": status,\n",
    "        \"refund_status\": refund_status,\n",
    "        \"dispute_status\": dispute_status,\n",
    "        \"order_id\": order_id,\n",
    "        \"product_description\": product_description,\n",
    "        \"delivery_status\": delivery_status,\n",
    "        \"refund_reason\": refund_reason,\n",
    "        \"policy_matched\": policy_matched,\n",
    "        \"support_notes\": support_notes\n",
    "    }\n",
    "\n",
    "# Generate dataset\n",
    "def generate_dataset(n=1000, output_file=\"mock_transactions.json\"):\n",
    "    data = [generate_transaction() for _ in range(n)]\n",
    "    with open(output_file, \"w\") as f:\n",
    "        json.dump(data, f, indent=2)\n",
    "\n",
    "# Run generator\n",
    "generate_dataset(10000)  # change number as needed\n",
    "\n",
    "\n"
   ]
  }
 ],
 "metadata": {
  "kernelspec": {
   "display_name": "Python 3",
   "language": "python",
   "name": "python3"
  },
  "language_info": {
   "codemirror_mode": {
    "name": "ipython",
    "version": 3
   },
   "file_extension": ".py",
   "mimetype": "text/x-python",
   "name": "python",
   "nbconvert_exporter": "python",
   "pygments_lexer": "ipython3",
   "version": "3.11.9"
  }
 },
 "nbformat": 4,
 "nbformat_minor": 5
}
